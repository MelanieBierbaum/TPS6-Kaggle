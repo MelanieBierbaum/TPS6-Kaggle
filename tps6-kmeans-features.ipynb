{
 "cells": [
  {
   "cell_type": "markdown",
   "id": "funny-juice",
   "metadata": {
    "papermill": {
     "duration": 0.011812,
     "end_time": "2021-06-13T08:45:43.635723",
     "exception": false,
     "start_time": "2021-06-13T08:45:43.623911",
     "status": "completed"
    },
    "tags": []
   },
   "source": [
    "# About\n",
    "The idea is to use Kmeans clustering to generate new features for the TPS6 competition. This competition uses anonymized data."
   ]
  },
  {
   "cell_type": "code",
   "execution_count": 1,
   "id": "interpreted-biodiversity",
   "metadata": {
    "_cell_guid": "b1076dfc-b9ad-4769-8c92-a6c4dae69d19",
    "_uuid": "8f2839f25d086af736a60e9eeb907d3b93b6e0e5",
    "execution": {
     "iopub.execute_input": "2021-06-13T08:45:43.665740Z",
     "iopub.status.busy": "2021-06-13T08:45:43.665031Z",
     "iopub.status.idle": "2021-06-13T08:45:45.179717Z",
     "shell.execute_reply": "2021-06-13T08:45:45.178868Z",
     "shell.execute_reply.started": "2021-06-13T08:02:26.530575Z"
    },
    "papermill": {
     "duration": 1.533424,
     "end_time": "2021-06-13T08:45:45.179910",
     "exception": false,
     "start_time": "2021-06-13T08:45:43.646486",
     "status": "completed"
    },
    "tags": []
   },
   "outputs": [
    {
     "name": "stdout",
     "output_type": "stream",
     "text": [
      "matplotlib version: 3.4.0\n",
      "scikit-learn version: 0.24.1\n",
      "/kaggle/input/tabular-playground-series-jun-2021/sample_submission.csv\n",
      "/kaggle/input/tabular-playground-series-jun-2021/train.csv\n",
      "/kaggle/input/tabular-playground-series-jun-2021/test.csv\n"
     ]
    }
   ],
   "source": [
    "# This Python 3 environment comes with many helpful analytics libraries installed\n",
    "# It is defined by the kaggle/python Docker image: https://github.com/kaggle/docker-python\n",
    "# For example, here's several helpful packages to load\n",
    "\n",
    "import numpy as np # linear algebra\n",
    "import pandas as pd # data processing, CSV file I/O (e.g. pd.read_csv)\n",
    "\n",
    "import matplotlib\n",
    "import matplotlib.pyplot as plt\n",
    "print(\"matplotlib version: {}\". format(matplotlib.__version__))\n",
    "\n",
    "import sklearn # machine learning algorithms\n",
    "print(\"scikit-learn version: {}\". format(sklearn.__version__))\n",
    "from sklearn.preprocessing import StandardScaler\n",
    "\n",
    "from sklearn.cluster import KMeans\n",
    "\n",
    "# Input data files are available in the read-only \"../input/\" directory\n",
    "# For example, running this (by clicking run or pressing Shift+Enter) will list all files under the input directory\n",
    "\n",
    "import os\n",
    "for dirname, _, filenames in os.walk('/kaggle/input'):\n",
    "    for filename in filenames:\n",
    "        print(os.path.join(dirname, filename))\n",
    "\n",
    "# You can write up to 20GB to the current directory (/kaggle/working/) that gets preserved as output when you create a version using \"Save & Run All\" \n",
    "# You can also write temporary files to /kaggle/temp/, but they won't be saved outside of the current session"
   ]
  },
  {
   "cell_type": "code",
   "execution_count": 2,
   "id": "racial-administrator",
   "metadata": {
    "execution": {
     "iopub.execute_input": "2021-06-13T08:45:45.210801Z",
     "iopub.status.busy": "2021-06-13T08:45:45.209767Z",
     "iopub.status.idle": "2021-06-13T08:45:47.718845Z",
     "shell.execute_reply": "2021-06-13T08:45:47.718196Z",
     "shell.execute_reply.started": "2021-06-13T07:54:02.117856Z"
    },
    "papermill": {
     "duration": 2.527547,
     "end_time": "2021-06-13T08:45:47.719022",
     "exception": false,
     "start_time": "2021-06-13T08:45:45.191475",
     "status": "completed"
    },
    "tags": []
   },
   "outputs": [
    {
     "data": {
      "text/plain": [
       "(300000, 75)"
      ]
     },
     "metadata": {},
     "output_type": "display_data"
    },
    {
     "data": {
      "text/html": [
       "<div>\n",
       "<style scoped>\n",
       "    .dataframe tbody tr th:only-of-type {\n",
       "        vertical-align: middle;\n",
       "    }\n",
       "\n",
       "    .dataframe tbody tr th {\n",
       "        vertical-align: top;\n",
       "    }\n",
       "\n",
       "    .dataframe thead th {\n",
       "        text-align: right;\n",
       "    }\n",
       "</style>\n",
       "<table border=\"1\" class=\"dataframe\">\n",
       "  <thead>\n",
       "    <tr style=\"text-align: right;\">\n",
       "      <th></th>\n",
       "      <th>feature_0</th>\n",
       "      <th>feature_1</th>\n",
       "      <th>feature_2</th>\n",
       "      <th>feature_3</th>\n",
       "      <th>feature_4</th>\n",
       "      <th>feature_5</th>\n",
       "      <th>feature_6</th>\n",
       "      <th>feature_7</th>\n",
       "      <th>feature_8</th>\n",
       "      <th>feature_9</th>\n",
       "      <th>...</th>\n",
       "      <th>feature_65</th>\n",
       "      <th>feature_66</th>\n",
       "      <th>feature_67</th>\n",
       "      <th>feature_68</th>\n",
       "      <th>feature_69</th>\n",
       "      <th>feature_70</th>\n",
       "      <th>feature_71</th>\n",
       "      <th>feature_72</th>\n",
       "      <th>feature_73</th>\n",
       "      <th>feature_74</th>\n",
       "    </tr>\n",
       "  </thead>\n",
       "  <tbody>\n",
       "    <tr>\n",
       "      <th>0</th>\n",
       "      <td>0</td>\n",
       "      <td>0</td>\n",
       "      <td>6</td>\n",
       "      <td>1</td>\n",
       "      <td>0</td>\n",
       "      <td>0</td>\n",
       "      <td>0</td>\n",
       "      <td>0</td>\n",
       "      <td>7</td>\n",
       "      <td>0</td>\n",
       "      <td>...</td>\n",
       "      <td>3</td>\n",
       "      <td>0</td>\n",
       "      <td>0</td>\n",
       "      <td>0</td>\n",
       "      <td>0</td>\n",
       "      <td>0</td>\n",
       "      <td>0</td>\n",
       "      <td>2</td>\n",
       "      <td>0</td>\n",
       "      <td>0</td>\n",
       "    </tr>\n",
       "    <tr>\n",
       "      <th>1</th>\n",
       "      <td>0</td>\n",
       "      <td>0</td>\n",
       "      <td>0</td>\n",
       "      <td>0</td>\n",
       "      <td>0</td>\n",
       "      <td>0</td>\n",
       "      <td>0</td>\n",
       "      <td>0</td>\n",
       "      <td>0</td>\n",
       "      <td>0</td>\n",
       "      <td>...</td>\n",
       "      <td>0</td>\n",
       "      <td>2</td>\n",
       "      <td>0</td>\n",
       "      <td>0</td>\n",
       "      <td>0</td>\n",
       "      <td>0</td>\n",
       "      <td>0</td>\n",
       "      <td>0</td>\n",
       "      <td>1</td>\n",
       "      <td>0</td>\n",
       "    </tr>\n",
       "    <tr>\n",
       "      <th>2</th>\n",
       "      <td>0</td>\n",
       "      <td>0</td>\n",
       "      <td>0</td>\n",
       "      <td>0</td>\n",
       "      <td>0</td>\n",
       "      <td>1</td>\n",
       "      <td>0</td>\n",
       "      <td>3</td>\n",
       "      <td>0</td>\n",
       "      <td>0</td>\n",
       "      <td>...</td>\n",
       "      <td>8</td>\n",
       "      <td>0</td>\n",
       "      <td>0</td>\n",
       "      <td>0</td>\n",
       "      <td>0</td>\n",
       "      <td>1</td>\n",
       "      <td>0</td>\n",
       "      <td>0</td>\n",
       "      <td>0</td>\n",
       "      <td>0</td>\n",
       "    </tr>\n",
       "    <tr>\n",
       "      <th>3</th>\n",
       "      <td>0</td>\n",
       "      <td>0</td>\n",
       "      <td>7</td>\n",
       "      <td>0</td>\n",
       "      <td>1</td>\n",
       "      <td>5</td>\n",
       "      <td>2</td>\n",
       "      <td>2</td>\n",
       "      <td>0</td>\n",
       "      <td>1</td>\n",
       "      <td>...</td>\n",
       "      <td>0</td>\n",
       "      <td>0</td>\n",
       "      <td>4</td>\n",
       "      <td>0</td>\n",
       "      <td>2</td>\n",
       "      <td>2</td>\n",
       "      <td>0</td>\n",
       "      <td>4</td>\n",
       "      <td>3</td>\n",
       "      <td>0</td>\n",
       "    </tr>\n",
       "    <tr>\n",
       "      <th>4</th>\n",
       "      <td>1</td>\n",
       "      <td>0</td>\n",
       "      <td>0</td>\n",
       "      <td>0</td>\n",
       "      <td>0</td>\n",
       "      <td>0</td>\n",
       "      <td>0</td>\n",
       "      <td>0</td>\n",
       "      <td>0</td>\n",
       "      <td>0</td>\n",
       "      <td>...</td>\n",
       "      <td>0</td>\n",
       "      <td>0</td>\n",
       "      <td>0</td>\n",
       "      <td>0</td>\n",
       "      <td>0</td>\n",
       "      <td>0</td>\n",
       "      <td>0</td>\n",
       "      <td>0</td>\n",
       "      <td>0</td>\n",
       "      <td>0</td>\n",
       "    </tr>\n",
       "  </tbody>\n",
       "</table>\n",
       "<p>5 rows × 75 columns</p>\n",
       "</div>"
      ],
      "text/plain": [
       "   feature_0  feature_1  feature_2  feature_3  feature_4  feature_5  \\\n",
       "0          0          0          6          1          0          0   \n",
       "1          0          0          0          0          0          0   \n",
       "2          0          0          0          0          0          1   \n",
       "3          0          0          7          0          1          5   \n",
       "4          1          0          0          0          0          0   \n",
       "\n",
       "   feature_6  feature_7  feature_8  feature_9  ...  feature_65  feature_66  \\\n",
       "0          0          0          7          0  ...           3           0   \n",
       "1          0          0          0          0  ...           0           2   \n",
       "2          0          3          0          0  ...           8           0   \n",
       "3          2          2          0          1  ...           0           0   \n",
       "4          0          0          0          0  ...           0           0   \n",
       "\n",
       "   feature_67  feature_68  feature_69  feature_70  feature_71  feature_72  \\\n",
       "0           0           0           0           0           0           2   \n",
       "1           0           0           0           0           0           0   \n",
       "2           0           0           0           1           0           0   \n",
       "3           4           0           2           2           0           4   \n",
       "4           0           0           0           0           0           0   \n",
       "\n",
       "   feature_73  feature_74  \n",
       "0           0           0  \n",
       "1           1           0  \n",
       "2           0           0  \n",
       "3           3           0  \n",
       "4           0           0  \n",
       "\n",
       "[5 rows x 75 columns]"
      ]
     },
     "execution_count": 2,
     "metadata": {},
     "output_type": "execute_result"
    }
   ],
   "source": [
    "df_train = pd.read_csv('../input/tabular-playground-series-jun-2021/train.csv')\n",
    "df_test = pd.read_csv('../input/tabular-playground-series-jun-2021/test.csv')\n",
    "sample_submission = pd.read_csv('../input/tabular-playground-series-jun-2021/sample_submission.csv') \n",
    "\n",
    "# append train and test features to prepare data for clustering\n",
    "X = df_train.drop(columns=[\"id\",\"target\"]).append(df_test.drop(columns=\"id\"))\n",
    "display(X.shape)\n",
    "X.head()"
   ]
  },
  {
   "cell_type": "code",
   "execution_count": 3,
   "id": "persistent-style",
   "metadata": {
    "execution": {
     "iopub.execute_input": "2021-06-13T08:45:47.752277Z",
     "iopub.status.busy": "2021-06-13T08:45:47.751558Z",
     "iopub.status.idle": "2021-06-13T08:45:48.466038Z",
     "shell.execute_reply": "2021-06-13T08:45:48.466599Z",
     "shell.execute_reply.started": "2021-06-13T07:54:03.697363Z"
    },
    "papermill": {
     "duration": 0.735314,
     "end_time": "2021-06-13T08:45:48.466842",
     "exception": false,
     "start_time": "2021-06-13T08:45:47.731528",
     "status": "completed"
    },
    "tags": []
   },
   "outputs": [
    {
     "data": {
      "text/plain": [
       "array([-0.24665278, -0.29168803,  0.5878527 , -0.17232163, -0.27004876,\n",
       "       -0.27745879, -0.25629017, -0.30091585,  1.28519864, -0.2910902 ,\n",
       "       -0.43363598, -0.25592084,  0.16342896, -0.28997491, -0.14189346,\n",
       "       -0.17095119, -0.45507291,  2.56531253,  0.52580434, -0.37045834,\n",
       "       -0.53850118,  0.33032208, -0.21637646, -0.34114044, -0.18593801,\n",
       "       -0.32104851, -0.44279197, -0.22501113, -0.1563264 , -0.28299244,\n",
       "       -0.42455693, -0.22006525, -0.19471497, -0.39726496, -0.29692403,\n",
       "       -0.33775469, -0.25248126,  3.26205054, -0.29843843, -0.51624812,\n",
       "       -0.27903972, -0.21431983, -0.23877397,  0.5812892 , -0.4119542 ,\n",
       "       -0.31616878, -0.24618664, -0.16529865, -0.34822781, -0.23288902,\n",
       "        0.14001106, -0.31308334,  0.19483274,  0.56285122, -0.53097194,\n",
       "       -0.28343612, -0.51528547, -0.27892199, -0.34433605, -0.21713919,\n",
       "       -0.26145174, -0.05230233, -0.21380514, -0.2040728 , -0.31992405,\n",
       "        0.23755036, -0.27224754, -0.25400005, -0.23808471, -0.32810579,\n",
       "       -0.25213279, -0.32842075,  0.16352395, -0.27244267, -0.16109437])"
      ]
     },
     "execution_count": 3,
     "metadata": {},
     "output_type": "execute_result"
    }
   ],
   "source": [
    "# scale before using Kmeans \n",
    "X_scaled = StandardScaler().fit_transform(X)\n",
    "X_scaled[0]"
   ]
  },
  {
   "cell_type": "code",
   "execution_count": 4,
   "id": "supreme-hypothesis",
   "metadata": {
    "execution": {
     "iopub.execute_input": "2021-06-13T08:45:48.501864Z",
     "iopub.status.busy": "2021-06-13T08:45:48.501120Z",
     "iopub.status.idle": "2021-06-13T08:46:26.260929Z",
     "shell.execute_reply": "2021-06-13T08:46:26.261477Z",
     "shell.execute_reply.started": "2021-06-13T07:54:38.781534Z"
    },
    "papermill": {
     "duration": 37.781959,
     "end_time": "2021-06-13T08:46:26.261729",
     "exception": false,
     "start_time": "2021-06-13T08:45:48.479770",
     "status": "completed"
    },
    "tags": []
   },
   "outputs": [
    {
     "name": "stdout",
     "output_type": "stream",
     "text": [
      "[5 5 5 ... 5 5 5]\n"
     ]
    }
   ],
   "source": [
    "# run Kmeans\n",
    "num_clusters = 9 # I chose 9 clusters because the target variable has 9 values\n",
    "k_means = KMeans(init = \"k-means++\", n_clusters = num_clusters, n_init = 12)\n",
    "k_means.fit(X)\n",
    "labels = k_means.labels_\n",
    "print(labels)"
   ]
  },
  {
   "cell_type": "code",
   "execution_count": 5,
   "id": "supposed-bloom",
   "metadata": {
    "execution": {
     "iopub.execute_input": "2021-06-13T08:46:26.292443Z",
     "iopub.status.busy": "2021-06-13T08:46:26.291372Z",
     "iopub.status.idle": "2021-06-13T08:46:26.539382Z",
     "shell.execute_reply": "2021-06-13T08:46:26.539898Z",
     "shell.execute_reply.started": "2021-06-13T08:23:12.398533Z"
    },
    "papermill": {
     "duration": 0.265502,
     "end_time": "2021-06-13T08:46:26.540094",
     "exception": false,
     "start_time": "2021-06-13T08:46:26.274592",
     "status": "completed"
    },
    "tags": []
   },
   "outputs": [
    {
     "data": {
      "image/png": "[encoded data removed]",
      "text/plain": [
       "<Figure size 432x288 with 1 Axes>"
      ]
     },
     "metadata": {
      "needs_background": "light"
     },
     "output_type": "display_data"
    }
   ],
   "source": [
    "cluster_labels = pd.Series(labels)\n",
    "cluster_labels.value_counts().plot(kind=\"bar\")\n",
    "plt.title(\"Number of samples in each Cluster\")\n",
    "plt.show()"
   ]
  },
  {
   "cell_type": "code",
   "execution_count": 6,
   "id": "accepting-teens",
   "metadata": {
    "execution": {
     "iopub.execute_input": "2021-06-13T08:46:26.617479Z",
     "iopub.status.busy": "2021-06-13T08:46:26.616795Z",
     "iopub.status.idle": "2021-06-13T08:46:26.785555Z",
     "shell.execute_reply": "2021-06-13T08:46:26.784952Z",
     "shell.execute_reply.started": "2021-06-13T08:23:35.241750Z"
    },
    "papermill": {
     "duration": 0.232266,
     "end_time": "2021-06-13T08:46:26.785754",
     "exception": false,
     "start_time": "2021-06-13T08:46:26.553488",
     "status": "completed"
    },
    "tags": []
   },
   "outputs": [
    {
     "data": {
      "image/png": "[encoded data removed]",
      "text/plain": [
       "<Figure size 432x288 with 1 Axes>"
      ]
     },
     "metadata": {
      "needs_background": "light"
     },
     "output_type": "display_data"
    }
   ],
   "source": [
    "df_train.target.value_counts().plot(kind=\"bar\")\n",
    "plt.title(\"Number of Samples in each Target Class\")\n",
    "plt.show()"
   ]
  },
  {
   "cell_type": "markdown",
   "id": "imposed-western",
   "metadata": {
    "papermill": {
     "duration": 0.014224,
     "end_time": "2021-06-13T08:46:26.816321",
     "exception": false,
     "start_time": "2021-06-13T08:46:26.802097",
     "status": "completed"
    },
    "tags": []
   },
   "source": [
    "The number of samples in each Cluster does not match at all with the number of samples in each target class. But as this is experimental, let's keep it as an additional feature. "
   ]
  },
  {
   "cell_type": "code",
   "execution_count": 7,
   "id": "apart-composite",
   "metadata": {
    "execution": {
     "iopub.execute_input": "2021-06-13T08:46:26.854602Z",
     "iopub.status.busy": "2021-06-13T08:46:26.853186Z",
     "iopub.status.idle": "2021-06-13T08:46:27.259071Z",
     "shell.execute_reply": "2021-06-13T08:46:27.260431Z",
     "shell.execute_reply.started": "2021-06-13T08:17:47.960988Z"
    },
    "papermill": {
     "duration": 0.429988,
     "end_time": "2021-06-13T08:46:27.260766",
     "exception": false,
     "start_time": "2021-06-13T08:46:26.830778",
     "status": "completed"
    },
    "tags": []
   },
   "outputs": [
    {
     "data": {
      "text/plain": [
       "array([[ 74.25436603,  29.51333858,  62.06411599, ..., 155.04827697,\n",
       "         64.76379246,  64.28100494],\n",
       "       [ 74.99693034,  30.46449928,  61.68039091, ..., 156.08579203,\n",
       "         64.45002048,  65.09651516],\n",
       "       [ 73.62861734,  26.53497426,  61.43194819, ..., 151.0154298 ,\n",
       "         64.12652179,  63.60002241],\n",
       "       ...,\n",
       "       [ 75.25480831,  30.73915966,  62.74241133, ..., 156.20758984,\n",
       "         65.52462333,  65.36350069],\n",
       "       [ 73.78694869,  29.43752341,  61.8028746 , ..., 154.89420829,\n",
       "         62.74168102,  63.04556242],\n",
       "       [ 74.26582391,  29.44699167,  62.15747982, ..., 155.07035697,\n",
       "         63.98709881,  64.41286797]])"
      ]
     },
     "execution_count": 7,
     "metadata": {},
     "output_type": "execute_result"
    }
   ],
   "source": [
    "# compute distance of each sample to cluster centers\n",
    "dist = k_means.transform(X)\n",
    "dist"
   ]
  },
  {
   "cell_type": "code",
   "execution_count": 8,
   "id": "hollow-valuable",
   "metadata": {
    "execution": {
     "iopub.execute_input": "2021-06-13T08:46:27.335111Z",
     "iopub.status.busy": "2021-06-13T08:46:27.320808Z",
     "iopub.status.idle": "2021-06-13T08:46:27.340442Z",
     "shell.execute_reply": "2021-06-13T08:46:27.339886Z",
     "shell.execute_reply.started": "2021-06-13T08:40:36.954970Z"
    },
    "papermill": {
     "duration": 0.053021,
     "end_time": "2021-06-13T08:46:27.340593",
     "exception": false,
     "start_time": "2021-06-13T08:46:27.287572",
     "status": "completed"
    },
    "tags": []
   },
   "outputs": [
    {
     "data": {
      "text/html": [
       "<div>\n",
       "<style scoped>\n",
       "    .dataframe tbody tr th:only-of-type {\n",
       "        vertical-align: middle;\n",
       "    }\n",
       "\n",
       "    .dataframe tbody tr th {\n",
       "        vertical-align: top;\n",
       "    }\n",
       "\n",
       "    .dataframe thead th {\n",
       "        text-align: right;\n",
       "    }\n",
       "</style>\n",
       "<table border=\"1\" class=\"dataframe\">\n",
       "  <thead>\n",
       "    <tr style=\"text-align: right;\">\n",
       "      <th></th>\n",
       "      <th>Dist_0</th>\n",
       "      <th>Dist_1</th>\n",
       "      <th>Dist_2</th>\n",
       "      <th>Dist_3</th>\n",
       "      <th>Dist_4</th>\n",
       "      <th>Dist_5</th>\n",
       "      <th>Dist_6</th>\n",
       "      <th>Dist_7</th>\n",
       "      <th>Dist_8</th>\n",
       "      <th>Cluster</th>\n",
       "    </tr>\n",
       "  </thead>\n",
       "  <tbody>\n",
       "    <tr>\n",
       "      <th>0</th>\n",
       "      <td>74.254366</td>\n",
       "      <td>29.513339</td>\n",
       "      <td>62.064116</td>\n",
       "      <td>54.703726</td>\n",
       "      <td>33.230144</td>\n",
       "      <td>16.208328</td>\n",
       "      <td>155.048277</td>\n",
       "      <td>64.763792</td>\n",
       "      <td>64.281005</td>\n",
       "      <td>5</td>\n",
       "    </tr>\n",
       "    <tr>\n",
       "      <th>1</th>\n",
       "      <td>74.996930</td>\n",
       "      <td>30.464499</td>\n",
       "      <td>61.680391</td>\n",
       "      <td>54.647196</td>\n",
       "      <td>38.813504</td>\n",
       "      <td>8.488975</td>\n",
       "      <td>156.085792</td>\n",
       "      <td>64.450020</td>\n",
       "      <td>65.096515</td>\n",
       "      <td>5</td>\n",
       "    </tr>\n",
       "    <tr>\n",
       "      <th>2</th>\n",
       "      <td>73.628617</td>\n",
       "      <td>26.534974</td>\n",
       "      <td>61.431948</td>\n",
       "      <td>53.994395</td>\n",
       "      <td>39.755983</td>\n",
       "      <td>13.818000</td>\n",
       "      <td>151.015430</td>\n",
       "      <td>64.126522</td>\n",
       "      <td>63.600022</td>\n",
       "      <td>5</td>\n",
       "    </tr>\n",
       "    <tr>\n",
       "      <th>3</th>\n",
       "      <td>81.110466</td>\n",
       "      <td>52.944724</td>\n",
       "      <td>73.448297</td>\n",
       "      <td>53.320436</td>\n",
       "      <td>61.471973</td>\n",
       "      <td>52.468816</td>\n",
       "      <td>159.861616</td>\n",
       "      <td>77.331829</td>\n",
       "      <td>76.120440</td>\n",
       "      <td>5</td>\n",
       "    </tr>\n",
       "    <tr>\n",
       "      <th>4</th>\n",
       "      <td>74.852919</td>\n",
       "      <td>30.227004</td>\n",
       "      <td>62.372260</td>\n",
       "      <td>52.061608</td>\n",
       "      <td>40.204648</td>\n",
       "      <td>8.562651</td>\n",
       "      <td>156.043318</td>\n",
       "      <td>65.132223</td>\n",
       "      <td>64.884620</td>\n",
       "      <td>5</td>\n",
       "    </tr>\n",
       "  </tbody>\n",
       "</table>\n",
       "</div>"
      ],
      "text/plain": [
       "      Dist_0     Dist_1     Dist_2     Dist_3     Dist_4     Dist_5  \\\n",
       "0  74.254366  29.513339  62.064116  54.703726  33.230144  16.208328   \n",
       "1  74.996930  30.464499  61.680391  54.647196  38.813504   8.488975   \n",
       "2  73.628617  26.534974  61.431948  53.994395  39.755983  13.818000   \n",
       "3  81.110466  52.944724  73.448297  53.320436  61.471973  52.468816   \n",
       "4  74.852919  30.227004  62.372260  52.061608  40.204648   8.562651   \n",
       "\n",
       "       Dist_6     Dist_7     Dist_8  Cluster  \n",
       "0  155.048277  64.763792  64.281005        5  \n",
       "1  156.085792  64.450020  65.096515        5  \n",
       "2  151.015430  64.126522  63.600022        5  \n",
       "3  159.861616  77.331829  76.120440        5  \n",
       "4  156.043318  65.132223  64.884620        5  "
      ]
     },
     "execution_count": 8,
     "metadata": {},
     "output_type": "execute_result"
    }
   ],
   "source": [
    "column_labels = [f'Dist_{i}' for i in range(0, 9)]\n",
    "kmeans_features = pd.DataFrame(data=dist, columns=column_labels)\n",
    "kmeans_features[\"Cluster\"] = labels\n",
    "kmeans_features.head()"
   ]
  },
  {
   "cell_type": "code",
   "execution_count": 9,
   "id": "grand-distinction",
   "metadata": {
    "execution": {
     "iopub.execute_input": "2021-06-13T08:46:27.374498Z",
     "iopub.status.busy": "2021-06-13T08:46:27.373873Z",
     "iopub.status.idle": "2021-06-13T08:46:32.894663Z",
     "shell.execute_reply": "2021-06-13T08:46:32.893364Z",
     "shell.execute_reply.started": "2021-06-13T08:44:42.155759Z"
    },
    "papermill": {
     "duration": 5.539181,
     "end_time": "2021-06-13T08:46:32.894859",
     "exception": false,
     "start_time": "2021-06-13T08:46:27.355678",
     "status": "completed"
    },
    "tags": []
   },
   "outputs": [],
   "source": [
    "# save \n",
    "kmeans_features.to_csv(\"kmeans_features.csv\", index=False)"
   ]
  },
  {
   "cell_type": "code",
   "execution_count": null,
   "id": "virtual-warning",
   "metadata": {
    "papermill": {
     "duration": 0.014956,
     "end_time": "2021-06-13T08:46:32.925383",
     "exception": false,
     "start_time": "2021-06-13T08:46:32.910427",
     "status": "completed"
    },
    "tags": []
   },
   "outputs": [],
   "source": []
  }
 ],
 "metadata": {
  "kernelspec": {
   "display_name": "Python 3",
   "language": "python",
   "name": "python3"
  },
  "language_info": {
   "codemirror_mode": {
    "name": "ipython",
    "version": 3
   },
   "file_extension": ".py",
   "mimetype": "text/x-python",
   "name": "python",
   "nbconvert_exporter": "python",
   "pygments_lexer": "ipython3",
   "version": "3.7.9"
  },
  "papermill": {
   "default_parameters": {},
   "duration": 56.682725,
   "end_time": "2021-06-13T08:46:33.955101",
   "environment_variables": {},
   "exception": null,
   "input_path": "__notebook__.ipynb",
   "output_path": "__notebook__.ipynb",
   "parameters": {},
   "start_time": "2021-06-13T08:45:37.272376",
   "version": "2.3.2"
  }
 },
 "nbformat": 4,
 "nbformat_minor": 5
}
