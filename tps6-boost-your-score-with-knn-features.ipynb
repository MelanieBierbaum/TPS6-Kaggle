{
 "cells": [
  {
   "cell_type": "markdown",
   "id": "disciplinary-powder",
   "metadata": {
    "papermill": {
     "duration": 0.008577,
     "end_time": "2021-06-12T18:27:34.252109",
     "exception": false,
     "start_time": "2021-06-12T18:27:34.243532",
     "status": "completed"
    },
    "tags": []
   },
   "source": [
    "# Boost your score with KNN Feature extraction\n",
    "\n",
    "For TPS 6, I wanted to follow a different approach than before. Instead of focusing on modeling, I focused on feature engineering. Given the fact, that this competition has anonymized features, this might not be an obvious choise.\n",
    "However my [EDA](https://www.kaggle.com/melanie7744/tps6-eda-comparison-to-tps5) also led me to the original dataset. I.e. the dataset used to generate the synthetic one we got for TPS 6. So I researched the solutions that worked back then. Many of them did not seem to be viable for me. But one looked promising: **KNN feature extraction**. \n",
    "\n",
    "My quest for knowledge then led me to a nice package: **fastknn**, written by [David Pinto](http://www.kaggle.com/davidpinto/fastknn-show-to-glm-what-knn-see-0-96#Feature-Engineering-with-KNN). It seemed to provide everything I wanted. Unfortunately it was written in R.\n",
    "\n",
    "So the search continued until I found .... a Python implementation by Momijiame of this same package! It is called **Gokinjo**, which means neighborhood in Japanese and is available on [Github](https://github.com/momijiame/gokinjo). \n",
    "\n",
    "\n",
    " \n",
    "</div>\n",
    "        \n",
    "### What is KNN feature extraction? \n",
    "\n",
    "from [David Pinto](https://davpinto.github.io/fastknn/articles/knn-extraction.html):\n",
    "\n",
    "<div class=\"alert alert-success\">\n",
    "The fastknn provides a function to do feature extraction using KNN. It generates k * c new features, where c is the number of class labels. The new features are computed from the distances between the observations and their k nearest neighbors inside each class, as follows:\n",
    "<ul>\n",
    "<li>The first test feature contains the distances between each test instance and its nearest neighbor inside the first class.</li>\n",
    "<li>The second test feature contains the sums of distances between each test instance and its 2 nearest neighbors inside the first class.</li>\n",
    "<li>The third test feature contains the sums of distances between each test instance and its 3 nearest neighbors inside the first class.</li>\n",
    "<li>And so on.</li>\n",
    "</ul>\n",
    "This procedure repeats for each class label, generating k * c new features. Then, the new training features are generated using a n-fold CV approach, in order to avoid overfitting. Parallelization is available. You can specify the number of threads via nthread parameter.\n",
    "</div>\n",
    "\n",
    "So, let's try it out!"
   ]
  },
  {
   "cell_type": "code",
   "execution_count": 1,
   "id": "dependent-scientist",
   "metadata": {
    "collapsed": true,
    "execution": {
     "iopub.execute_input": "2021-06-12T18:27:34.287617Z",
     "iopub.status.busy": "2021-06-12T18:27:34.274973Z",
     "iopub.status.idle": "2021-06-12T18:27:42.952455Z",
     "shell.execute_reply": "2021-06-12T18:27:42.951810Z",
     "shell.execute_reply.started": "2021-06-12T18:14:55.674588Z"
    },
    "jupyter": {
     "outputs_hidden": true
    },
    "papermill": {
     "duration": 8.692816,
     "end_time": "2021-06-12T18:27:42.952615",
     "exception": false,
     "start_time": "2021-06-12T18:27:34.259799",
     "status": "completed"
    },
    "tags": []
   },
   "outputs": [
    {
     "name": "stdout",
     "output_type": "stream",
     "text": [
      "Collecting gokinjo\r\n",
      "  Downloading gokinjo-0.1.0-py3-none-any.whl (10 kB)\r\n",
      "Requirement already satisfied: numpy in /opt/conda/lib/python3.7/site-packages (from gokinjo) (1.19.5)\r\n",
      "Requirement already satisfied: scikit-learn in /opt/conda/lib/python3.7/site-packages (from gokinjo) (0.24.1)\r\n",
      "Requirement already satisfied: scipy>=0.19.1 in /opt/conda/lib/python3.7/site-packages (from scikit-learn->gokinjo) (1.5.4)\r\n",
      "Requirement already satisfied: joblib>=0.11 in /opt/conda/lib/python3.7/site-packages (from scikit-learn->gokinjo) (1.0.1)\r\n",
      "Requirement already satisfied: threadpoolctl>=2.0.0 in /opt/conda/lib/python3.7/site-packages (from scikit-learn->gokinjo) (2.1.0)\r\n",
      "Installing collected packages: gokinjo\r\n",
      "Successfully installed gokinjo-0.1.0\r\n",
      "Note: you may need to restart the kernel to use updated packages.\n"
     ]
    }
   ],
   "source": [
    "pip install gokinjo"
   ]
  },
  {
   "cell_type": "code",
   "execution_count": 2,
   "id": "composite-booking",
   "metadata": {
    "_cell_guid": "b1076dfc-b9ad-4769-8c92-a6c4dae69d19",
    "_uuid": "8f2839f25d086af736a60e9eeb907d3b93b6e0e5",
    "execution": {
     "iopub.execute_input": "2021-06-12T18:27:42.977183Z",
     "iopub.status.busy": "2021-06-12T18:27:42.976566Z",
     "iopub.status.idle": "2021-06-12T18:27:44.031866Z",
     "shell.execute_reply": "2021-06-12T18:27:44.032301Z",
     "shell.execute_reply.started": "2021-06-12T18:15:04.707013Z"
    },
    "papermill": {
     "duration": 1.070293,
     "end_time": "2021-06-12T18:27:44.032486",
     "exception": false,
     "start_time": "2021-06-12T18:27:42.962193",
     "status": "completed"
    },
    "tags": []
   },
   "outputs": [
    {
     "name": "stdout",
     "output_type": "stream",
     "text": [
      "/kaggle/input/tabular-playground-series-jun-2021/sample_submission.csv\n",
      "/kaggle/input/tabular-playground-series-jun-2021/train.csv\n",
      "/kaggle/input/tabular-playground-series-jun-2021/test.csv\n"
     ]
    }
   ],
   "source": [
    "import numpy as np \n",
    "import pandas as pd \n",
    "from sklearn.preprocessing import LabelEncoder\n",
    "\n",
    "from gokinjo import knn_kfold_extract\n",
    "from gokinjo import knn_extract\n",
    "\n",
    "# list all files under the input directory\n",
    "import os\n",
    "for dirname, _, filenames in os.walk('/kaggle/input'):\n",
    "    for filename in filenames:\n",
    "        print(os.path.join(dirname, filename))"
   ]
  },
  {
   "cell_type": "code",
   "execution_count": 3,
   "id": "expressed-democrat",
   "metadata": {
    "execution": {
     "iopub.execute_input": "2021-06-12T18:27:44.056967Z",
     "iopub.status.busy": "2021-06-12T18:27:44.056358Z",
     "iopub.status.idle": "2021-06-12T18:27:46.121807Z",
     "shell.execute_reply": "2021-06-12T18:27:46.122211Z",
     "shell.execute_reply.started": "2021-06-12T18:15:05.941865Z"
    },
    "papermill": {
     "duration": 2.080712,
     "end_time": "2021-06-12T18:27:46.122375",
     "exception": false,
     "start_time": "2021-06-12T18:27:44.041663",
     "status": "completed"
    },
    "tags": []
   },
   "outputs": [
    {
     "name": "stdout",
     "output_type": "stream",
     "text": [
      "First five rows of training data:\n"
     ]
    },
    {
     "data": {
      "text/html": [
       "<div>\n",
       "<style scoped>\n",
       "    .dataframe tbody tr th:only-of-type {\n",
       "        vertical-align: middle;\n",
       "    }\n",
       "\n",
       "    .dataframe tbody tr th {\n",
       "        vertical-align: top;\n",
       "    }\n",
       "\n",
       "    .dataframe thead th {\n",
       "        text-align: right;\n",
       "    }\n",
       "</style>\n",
       "<table border=\"1\" class=\"dataframe\">\n",
       "  <thead>\n",
       "    <tr style=\"text-align: right;\">\n",
       "      <th></th>\n",
       "      <th>feature_0</th>\n",
       "      <th>feature_1</th>\n",
       "      <th>feature_2</th>\n",
       "      <th>feature_3</th>\n",
       "      <th>feature_4</th>\n",
       "      <th>feature_5</th>\n",
       "      <th>feature_6</th>\n",
       "      <th>feature_7</th>\n",
       "      <th>feature_8</th>\n",
       "      <th>feature_9</th>\n",
       "      <th>...</th>\n",
       "      <th>feature_65</th>\n",
       "      <th>feature_66</th>\n",
       "      <th>feature_67</th>\n",
       "      <th>feature_68</th>\n",
       "      <th>feature_69</th>\n",
       "      <th>feature_70</th>\n",
       "      <th>feature_71</th>\n",
       "      <th>feature_72</th>\n",
       "      <th>feature_73</th>\n",
       "      <th>feature_74</th>\n",
       "    </tr>\n",
       "  </thead>\n",
       "  <tbody>\n",
       "    <tr>\n",
       "      <th>0</th>\n",
       "      <td>0</td>\n",
       "      <td>0</td>\n",
       "      <td>6</td>\n",
       "      <td>1</td>\n",
       "      <td>0</td>\n",
       "      <td>0</td>\n",
       "      <td>0</td>\n",
       "      <td>0</td>\n",
       "      <td>7</td>\n",
       "      <td>0</td>\n",
       "      <td>...</td>\n",
       "      <td>3</td>\n",
       "      <td>0</td>\n",
       "      <td>0</td>\n",
       "      <td>0</td>\n",
       "      <td>0</td>\n",
       "      <td>0</td>\n",
       "      <td>0</td>\n",
       "      <td>2</td>\n",
       "      <td>0</td>\n",
       "      <td>0</td>\n",
       "    </tr>\n",
       "    <tr>\n",
       "      <th>1</th>\n",
       "      <td>0</td>\n",
       "      <td>0</td>\n",
       "      <td>0</td>\n",
       "      <td>0</td>\n",
       "      <td>0</td>\n",
       "      <td>0</td>\n",
       "      <td>0</td>\n",
       "      <td>0</td>\n",
       "      <td>0</td>\n",
       "      <td>0</td>\n",
       "      <td>...</td>\n",
       "      <td>0</td>\n",
       "      <td>2</td>\n",
       "      <td>0</td>\n",
       "      <td>0</td>\n",
       "      <td>0</td>\n",
       "      <td>0</td>\n",
       "      <td>0</td>\n",
       "      <td>0</td>\n",
       "      <td>1</td>\n",
       "      <td>0</td>\n",
       "    </tr>\n",
       "    <tr>\n",
       "      <th>2</th>\n",
       "      <td>0</td>\n",
       "      <td>0</td>\n",
       "      <td>0</td>\n",
       "      <td>0</td>\n",
       "      <td>0</td>\n",
       "      <td>1</td>\n",
       "      <td>0</td>\n",
       "      <td>3</td>\n",
       "      <td>0</td>\n",
       "      <td>0</td>\n",
       "      <td>...</td>\n",
       "      <td>8</td>\n",
       "      <td>0</td>\n",
       "      <td>0</td>\n",
       "      <td>0</td>\n",
       "      <td>0</td>\n",
       "      <td>1</td>\n",
       "      <td>0</td>\n",
       "      <td>0</td>\n",
       "      <td>0</td>\n",
       "      <td>0</td>\n",
       "    </tr>\n",
       "    <tr>\n",
       "      <th>3</th>\n",
       "      <td>0</td>\n",
       "      <td>0</td>\n",
       "      <td>7</td>\n",
       "      <td>0</td>\n",
       "      <td>1</td>\n",
       "      <td>5</td>\n",
       "      <td>2</td>\n",
       "      <td>2</td>\n",
       "      <td>0</td>\n",
       "      <td>1</td>\n",
       "      <td>...</td>\n",
       "      <td>0</td>\n",
       "      <td>0</td>\n",
       "      <td>4</td>\n",
       "      <td>0</td>\n",
       "      <td>2</td>\n",
       "      <td>2</td>\n",
       "      <td>0</td>\n",
       "      <td>4</td>\n",
       "      <td>3</td>\n",
       "      <td>0</td>\n",
       "    </tr>\n",
       "    <tr>\n",
       "      <th>4</th>\n",
       "      <td>1</td>\n",
       "      <td>0</td>\n",
       "      <td>0</td>\n",
       "      <td>0</td>\n",
       "      <td>0</td>\n",
       "      <td>0</td>\n",
       "      <td>0</td>\n",
       "      <td>0</td>\n",
       "      <td>0</td>\n",
       "      <td>0</td>\n",
       "      <td>...</td>\n",
       "      <td>0</td>\n",
       "      <td>0</td>\n",
       "      <td>0</td>\n",
       "      <td>0</td>\n",
       "      <td>0</td>\n",
       "      <td>0</td>\n",
       "      <td>0</td>\n",
       "      <td>0</td>\n",
       "      <td>0</td>\n",
       "      <td>0</td>\n",
       "    </tr>\n",
       "  </tbody>\n",
       "</table>\n",
       "<p>5 rows × 75 columns</p>\n",
       "</div>"
      ],
      "text/plain": [
       "   feature_0  feature_1  feature_2  feature_3  feature_4  feature_5  \\\n",
       "0          0          0          6          1          0          0   \n",
       "1          0          0          0          0          0          0   \n",
       "2          0          0          0          0          0          1   \n",
       "3          0          0          7          0          1          5   \n",
       "4          1          0          0          0          0          0   \n",
       "\n",
       "   feature_6  feature_7  feature_8  feature_9  ...  feature_65  feature_66  \\\n",
       "0          0          0          7          0  ...           3           0   \n",
       "1          0          0          0          0  ...           0           2   \n",
       "2          0          3          0          0  ...           8           0   \n",
       "3          2          2          0          1  ...           0           0   \n",
       "4          0          0          0          0  ...           0           0   \n",
       "\n",
       "   feature_67  feature_68  feature_69  feature_70  feature_71  feature_72  \\\n",
       "0           0           0           0           0           0           2   \n",
       "1           0           0           0           0           0           0   \n",
       "2           0           0           0           1           0           0   \n",
       "3           4           0           2           2           0           4   \n",
       "4           0           0           0           0           0           0   \n",
       "\n",
       "   feature_73  feature_74  \n",
       "0           0           0  \n",
       "1           1           0  \n",
       "2           0           0  \n",
       "3           3           0  \n",
       "4           0           0  \n",
       "\n",
       "[5 rows x 75 columns]"
      ]
     },
     "metadata": {},
     "output_type": "display_data"
    },
    {
     "name": "stdout",
     "output_type": "stream",
     "text": [
      "First five rows of test data:\n"
     ]
    },
    {
     "data": {
      "text/html": [
       "<div>\n",
       "<style scoped>\n",
       "    .dataframe tbody tr th:only-of-type {\n",
       "        vertical-align: middle;\n",
       "    }\n",
       "\n",
       "    .dataframe tbody tr th {\n",
       "        vertical-align: top;\n",
       "    }\n",
       "\n",
       "    .dataframe thead th {\n",
       "        text-align: right;\n",
       "    }\n",
       "</style>\n",
       "<table border=\"1\" class=\"dataframe\">\n",
       "  <thead>\n",
       "    <tr style=\"text-align: right;\">\n",
       "      <th></th>\n",
       "      <th>feature_0</th>\n",
       "      <th>feature_1</th>\n",
       "      <th>feature_2</th>\n",
       "      <th>feature_3</th>\n",
       "      <th>feature_4</th>\n",
       "      <th>feature_5</th>\n",
       "      <th>feature_6</th>\n",
       "      <th>feature_7</th>\n",
       "      <th>feature_8</th>\n",
       "      <th>feature_9</th>\n",
       "      <th>...</th>\n",
       "      <th>feature_65</th>\n",
       "      <th>feature_66</th>\n",
       "      <th>feature_67</th>\n",
       "      <th>feature_68</th>\n",
       "      <th>feature_69</th>\n",
       "      <th>feature_70</th>\n",
       "      <th>feature_71</th>\n",
       "      <th>feature_72</th>\n",
       "      <th>feature_73</th>\n",
       "      <th>feature_74</th>\n",
       "    </tr>\n",
       "  </thead>\n",
       "  <tbody>\n",
       "    <tr>\n",
       "      <th>0</th>\n",
       "      <td>0</td>\n",
       "      <td>0</td>\n",
       "      <td>0</td>\n",
       "      <td>0</td>\n",
       "      <td>0</td>\n",
       "      <td>0</td>\n",
       "      <td>0</td>\n",
       "      <td>0</td>\n",
       "      <td>0</td>\n",
       "      <td>0</td>\n",
       "      <td>...</td>\n",
       "      <td>0</td>\n",
       "      <td>0</td>\n",
       "      <td>0</td>\n",
       "      <td>0</td>\n",
       "      <td>0</td>\n",
       "      <td>0</td>\n",
       "      <td>0</td>\n",
       "      <td>0</td>\n",
       "      <td>0</td>\n",
       "      <td>0</td>\n",
       "    </tr>\n",
       "    <tr>\n",
       "      <th>1</th>\n",
       "      <td>1</td>\n",
       "      <td>2</td>\n",
       "      <td>0</td>\n",
       "      <td>0</td>\n",
       "      <td>0</td>\n",
       "      <td>0</td>\n",
       "      <td>0</td>\n",
       "      <td>0</td>\n",
       "      <td>0</td>\n",
       "      <td>0</td>\n",
       "      <td>...</td>\n",
       "      <td>3</td>\n",
       "      <td>1</td>\n",
       "      <td>3</td>\n",
       "      <td>0</td>\n",
       "      <td>0</td>\n",
       "      <td>0</td>\n",
       "      <td>0</td>\n",
       "      <td>3</td>\n",
       "      <td>0</td>\n",
       "      <td>0</td>\n",
       "    </tr>\n",
       "    <tr>\n",
       "      <th>2</th>\n",
       "      <td>0</td>\n",
       "      <td>1</td>\n",
       "      <td>7</td>\n",
       "      <td>1</td>\n",
       "      <td>0</td>\n",
       "      <td>0</td>\n",
       "      <td>0</td>\n",
       "      <td>0</td>\n",
       "      <td>6</td>\n",
       "      <td>0</td>\n",
       "      <td>...</td>\n",
       "      <td>3</td>\n",
       "      <td>0</td>\n",
       "      <td>0</td>\n",
       "      <td>0</td>\n",
       "      <td>0</td>\n",
       "      <td>3</td>\n",
       "      <td>0</td>\n",
       "      <td>2</td>\n",
       "      <td>0</td>\n",
       "      <td>0</td>\n",
       "    </tr>\n",
       "    <tr>\n",
       "      <th>3</th>\n",
       "      <td>0</td>\n",
       "      <td>0</td>\n",
       "      <td>0</td>\n",
       "      <td>4</td>\n",
       "      <td>3</td>\n",
       "      <td>1</td>\n",
       "      <td>0</td>\n",
       "      <td>0</td>\n",
       "      <td>0</td>\n",
       "      <td>0</td>\n",
       "      <td>...</td>\n",
       "      <td>0</td>\n",
       "      <td>0</td>\n",
       "      <td>0</td>\n",
       "      <td>1</td>\n",
       "      <td>0</td>\n",
       "      <td>0</td>\n",
       "      <td>0</td>\n",
       "      <td>4</td>\n",
       "      <td>0</td>\n",
       "      <td>0</td>\n",
       "    </tr>\n",
       "    <tr>\n",
       "      <th>4</th>\n",
       "      <td>0</td>\n",
       "      <td>0</td>\n",
       "      <td>5</td>\n",
       "      <td>0</td>\n",
       "      <td>0</td>\n",
       "      <td>0</td>\n",
       "      <td>0</td>\n",
       "      <td>0</td>\n",
       "      <td>0</td>\n",
       "      <td>8</td>\n",
       "      <td>...</td>\n",
       "      <td>0</td>\n",
       "      <td>0</td>\n",
       "      <td>0</td>\n",
       "      <td>0</td>\n",
       "      <td>0</td>\n",
       "      <td>0</td>\n",
       "      <td>0</td>\n",
       "      <td>0</td>\n",
       "      <td>1</td>\n",
       "      <td>0</td>\n",
       "    </tr>\n",
       "  </tbody>\n",
       "</table>\n",
       "<p>5 rows × 75 columns</p>\n",
       "</div>"
      ],
      "text/plain": [
       "   feature_0  feature_1  feature_2  feature_3  feature_4  feature_5  \\\n",
       "0          0          0          0          0          0          0   \n",
       "1          1          2          0          0          0          0   \n",
       "2          0          1          7          1          0          0   \n",
       "3          0          0          0          4          3          1   \n",
       "4          0          0          5          0          0          0   \n",
       "\n",
       "   feature_6  feature_7  feature_8  feature_9  ...  feature_65  feature_66  \\\n",
       "0          0          0          0          0  ...           0           0   \n",
       "1          0          0          0          0  ...           3           1   \n",
       "2          0          0          6          0  ...           3           0   \n",
       "3          0          0          0          0  ...           0           0   \n",
       "4          0          0          0          8  ...           0           0   \n",
       "\n",
       "   feature_67  feature_68  feature_69  feature_70  feature_71  feature_72  \\\n",
       "0           0           0           0           0           0           0   \n",
       "1           3           0           0           0           0           3   \n",
       "2           0           0           0           3           0           2   \n",
       "3           0           1           0           0           0           4   \n",
       "4           0           0           0           0           0           0   \n",
       "\n",
       "   feature_73  feature_74  \n",
       "0           0           0  \n",
       "1           0           0  \n",
       "2           0           0  \n",
       "3           0           0  \n",
       "4           1           0  \n",
       "\n",
       "[5 rows x 75 columns]"
      ]
     },
     "metadata": {},
     "output_type": "display_data"
    }
   ],
   "source": [
    "# read competiton data\n",
    "df_train = pd.read_csv('../input/tabular-playground-series-jun-2021/train.csv')\n",
    "df_test = pd.read_csv('../input/tabular-playground-series-jun-2021/test.csv') \n",
    "\n",
    "# label encode the target column\n",
    "le = LabelEncoder()\n",
    "df_train.target = le.fit_transform(df_train.target)\n",
    "\n",
    "# define X and y for training data\n",
    "X = df_train.drop(columns=[\"id\",\"target\"])\n",
    "y = df_train.target\n",
    "\n",
    "# prepare test data\n",
    "X_test=df_test.drop(columns=\"id\")\n",
    "\n",
    "print(\"First five rows of training data:\")\n",
    "display(X.head())\n",
    "print(\"First five rows of test data:\")\n",
    "display(X_test.head())"
   ]
  },
  {
   "cell_type": "code",
   "execution_count": 4,
   "id": "prostate-cause",
   "metadata": {
    "execution": {
     "iopub.execute_input": "2021-06-12T18:27:46.149921Z",
     "iopub.status.busy": "2021-06-12T18:27:46.149291Z",
     "iopub.status.idle": "2021-06-12T18:27:46.153069Z",
     "shell.execute_reply": "2021-06-12T18:27:46.153641Z",
     "shell.execute_reply.started": "2021-06-12T18:15:08.197431Z"
    },
    "papermill": {
     "duration": 0.020287,
     "end_time": "2021-06-12T18:27:46.153880",
     "exception": false,
     "start_time": "2021-06-12T18:27:46.133593",
     "status": "completed"
    },
    "tags": []
   },
   "outputs": [
    {
     "name": "stdout",
     "output_type": "stream",
     "text": [
      "X, shape:  (200000, 75)\n",
      "X_test, shape:  (100000, 75)\n"
     ]
    }
   ],
   "source": [
    "# convert to numpy because gokinjo expects np arrays\n",
    "X = X.to_numpy()\n",
    "y = y.to_numpy()\n",
    "X_test = X_test.to_numpy()\n",
    "# check shapes\n",
    "print(\"X, shape: \", np.shape(X))\n",
    "print(\"X_test, shape: \", np.shape(X_test))"
   ]
  },
  {
   "cell_type": "code",
   "execution_count": 5,
   "id": "furnished-complex",
   "metadata": {
    "execution": {
     "iopub.execute_input": "2021-06-12T18:27:46.182199Z",
     "iopub.status.busy": "2021-06-12T18:27:46.181302Z",
     "iopub.status.idle": "2021-06-12T18:34:01.765829Z",
     "shell.execute_reply": "2021-06-12T18:34:01.765064Z",
     "shell.execute_reply.started": "2021-06-12T18:15:08.205223Z"
    },
    "papermill": {
     "duration": 375.599878,
     "end_time": "2021-06-12T18:34:01.766027",
     "exception": false,
     "start_time": "2021-06-12T18:27:46.166149",
     "status": "completed"
    },
    "tags": []
   },
   "outputs": [
    {
     "name": "stdout",
     "output_type": "stream",
     "text": [
      "KNN features for training set, shape:  (200000, 9)\n"
     ]
    },
    {
     "data": {
      "text/plain": [
       "array([3.73320075, 3.45451402, 3.81265198, 3.85253456, 3.63653099,\n",
       "       2.82483479, 3.32534783, 3.28254987, 3.12120553])"
      ]
     },
     "execution_count": 5,
     "metadata": {},
     "output_type": "execute_result"
    }
   ],
   "source": [
    "# KNN feature extraction for train, as the data has not been normalized previously, let knn_kfold_extract do it\n",
    "# you can set a different value for k, just be aware about the increase in computation time\n",
    "KNN_feat_train = knn_kfold_extract(X, y, k=1, normalize='standard')\n",
    "print(\"KNN features for training set, shape: \", np.shape(KNN_feat_train))\n",
    "KNN_feat_train[0]"
   ]
  },
  {
   "cell_type": "code",
   "execution_count": 6,
   "id": "pleased-exclusion",
   "metadata": {
    "execution": {
     "iopub.execute_input": "2021-06-12T18:34:01.795937Z",
     "iopub.status.busy": "2021-06-12T18:34:01.795305Z",
     "iopub.status.idle": "2021-06-12T18:37:54.666133Z",
     "shell.execute_reply": "2021-06-12T18:37:54.665309Z",
     "shell.execute_reply.started": "2021-06-12T18:21:16.046069Z"
    },
    "papermill": {
     "duration": 232.887381,
     "end_time": "2021-06-12T18:37:54.666342",
     "exception": false,
     "start_time": "2021-06-12T18:34:01.778961",
     "status": "completed"
    },
    "tags": []
   },
   "outputs": [
    {
     "name": "stdout",
     "output_type": "stream",
     "text": [
      "KNN features for test set, shape:  (100000, 9)\n"
     ]
    },
    {
     "data": {
      "text/plain": [
       "array([0.54760409, 0.38943284, 0.39264324, 0.58408197, 0.60395868,\n",
       "       0.4631    , 0.59059477, 0.60252318, 0.51435248])"
      ]
     },
     "execution_count": 6,
     "metadata": {},
     "output_type": "execute_result"
    }
   ],
   "source": [
    "# create KNN features for test set, as the data has not been normalized previously, let knn_extract do it\n",
    "KNN_feat_test = knn_extract(X, y, X_test, k=1, normalize='standard')\n",
    "print(\"KNN features for test set, shape: \", np.shape(KNN_feat_test))\n",
    "KNN_feat_test[0]"
   ]
  },
  {
   "cell_type": "markdown",
   "id": "spectacular-crowd",
   "metadata": {
    "papermill": {
     "duration": 0.014144,
     "end_time": "2021-06-12T18:37:54.703351",
     "exception": false,
     "start_time": "2021-06-12T18:37:54.689207",
     "status": "completed"
    },
    "tags": []
   },
   "source": [
    "Note: generating the KNN features for the test set was not straight-forward for me. I did not find any sample code, so I digged into the source code of the Gokinjo package until I found the solution showed here. I hope this is how it is supposed to be done. Should anybody have experience with this package... your feedback is very welcome.\n"
   ]
  },
  {
   "cell_type": "code",
   "execution_count": 7,
   "id": "hearing-puppy",
   "metadata": {
    "execution": {
     "iopub.execute_input": "2021-06-12T18:37:54.733373Z",
     "iopub.status.busy": "2021-06-12T18:37:54.732734Z",
     "iopub.status.idle": "2021-06-12T18:37:54.828752Z",
     "shell.execute_reply": "2021-06-12T18:37:54.829313Z",
     "shell.execute_reply.started": "2021-06-12T18:25:02.770044Z"
    },
    "papermill": {
     "duration": 0.113568,
     "end_time": "2021-06-12T18:37:54.829535",
     "exception": false,
     "start_time": "2021-06-12T18:37:54.715967",
     "status": "completed"
    },
    "tags": []
   },
   "outputs": [
    {
     "name": "stdout",
     "output_type": "stream",
     "text": [
      "Train set, shape:  (200000, 84)\n",
      "Test set, shape:  (100000, 84)\n"
     ]
    }
   ],
   "source": [
    "# add KNN feature to normal features\n",
    "X, X_test = np.append(X, KNN_feat_train, axis=1), np.append(X_test, KNN_feat_test, axis=1) \n",
    "print(\"Train set, shape: \", np.shape(X))\n",
    "print(\"Test set, shape: \", np.shape(X_test))"
   ]
  },
  {
   "cell_type": "code",
   "execution_count": 8,
   "id": "upset-banks",
   "metadata": {
    "execution": {
     "iopub.execute_input": "2021-06-12T18:37:54.859698Z",
     "iopub.status.busy": "2021-06-12T18:37:54.858647Z",
     "iopub.status.idle": "2021-06-12T18:37:54.943641Z",
     "shell.execute_reply": "2021-06-12T18:37:54.943100Z",
     "shell.execute_reply.started": "2021-06-12T18:25:02.895536Z"
    },
    "papermill": {
     "duration": 0.100784,
     "end_time": "2021-06-12T18:37:54.943788",
     "exception": false,
     "start_time": "2021-06-12T18:37:54.843004",
     "status": "completed"
    },
    "tags": []
   },
   "outputs": [],
   "source": [
    "# store KNN features, they are computationally expensive\n",
    "np.save('add_feat_train', KNN_feat_train)\n",
    "np.save('add_feat_test', KNN_feat_test)\n",
    "\n",
    "# to load them in your notebook you can use:\n",
    "#new_features = np.load('add_feat_train.npy')"
   ]
  },
  {
   "cell_type": "markdown",
   "id": "postal-celebrity",
   "metadata": {
    "papermill": {
     "duration": 0.012004,
     "end_time": "2021-06-12T18:37:54.968376",
     "exception": false,
     "start_time": "2021-06-12T18:37:54.956372",
     "status": "completed"
    },
    "tags": []
   },
   "source": [
    "I used those extra features with an XGBoost Model: \n",
    "* My validation logloss improved from 1.75280 to 1.75089\n",
    "* My public score improved from 1.75592 to 1.75338\n",
    "* From the 10 most important features (as ranked by XGBoost), 8 were KNN features\n",
    "\n",
    "I'd be curious to know what happens if you use a better model, i.e. one that has already a lower logloss than my XGBoost.\n",
    "* Will such a model already have learned the extra insights from the KNN features and have threrfore no improvement in score? \n",
    "* Will such a model be able to use the additional KNN features more effectively and get a higher improvement in score?\n",
    "\n",
    "If anybody tries this out, please comment below!"
   ]
  },
  {
   "cell_type": "code",
   "execution_count": null,
   "id": "composite-front",
   "metadata": {
    "papermill": {
     "duration": 0.011893,
     "end_time": "2021-06-12T18:37:54.992753",
     "exception": false,
     "start_time": "2021-06-12T18:37:54.980860",
     "status": "completed"
    },
    "tags": []
   },
   "outputs": [],
   "source": []
  }
 ],
 "metadata": {
  "kernelspec": {
   "display_name": "Python 3",
   "language": "python",
   "name": "python3"
  },
  "language_info": {
   "codemirror_mode": {
    "name": "ipython",
    "version": 3
   },
   "file_extension": ".py",
   "mimetype": "text/x-python",
   "name": "python",
   "nbconvert_exporter": "python",
   "pygments_lexer": "ipython3",
   "version": "3.7.10"
  },
  "papermill": {
   "default_parameters": {},
   "duration": 628.992955,
   "end_time": "2021-06-12T18:37:56.293885",
   "environment_variables": {},
   "exception": null,
   "input_path": "__notebook__.ipynb",
   "output_path": "__notebook__.ipynb",
   "parameters": {},
   "start_time": "2021-06-12T18:27:27.300930",
   "version": "2.3.3"
  }
 },
 "nbformat": 4,
 "nbformat_minor": 5
}
